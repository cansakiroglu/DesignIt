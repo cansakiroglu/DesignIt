{
 "cells": [
  {
   "cell_type": "code",
   "execution_count": 1,
   "metadata": {},
   "outputs": [],
   "source": [
    "import spacy"
   ]
  },
  {
   "cell_type": "code",
   "execution_count": 2,
   "metadata": {},
   "outputs": [
    {
     "name": "stderr",
     "output_type": "stream",
     "text": [
      "c:\\Users\\BASAK\\AppData\\Local\\Programs\\Python\\Python39\\lib\\site-packages\\spacy\\util.py:877: UserWarning: [W095] Model 'en_core_web_sm' (3.0.0) was trained with spaCy v3.0 and may not be 100% compatible with the current version (3.5.0). If you see errors or degraded performance, download a newer compatible model or retrain your custom model with the current spaCy version. For more details and available updates, run: python -m spacy validate\n",
      "  warnings.warn(warn_msg)\n"
     ]
    }
   ],
   "source": [
    "nlp = spacy.load(r'C:\\\\Users\\\\BASAK\\\\AppData\\\\Local\\\\Programs\\\\Python\\\\Python39\\\\Lib\\\\site-packages\\\\en_core_web_sm-3.0.0\\\\en_core_web_sm\\\\en_core_web_sm-3.0.0',disable=['ner','textcat'])"
   ]
  },
  {
   "cell_type": "code",
   "execution_count": 3,
   "metadata": {},
   "outputs": [],
   "source": [
    "from spacy.matcher import Matcher \n",
    "\n",
    "from spacy import displacy \n",
    "import visualise_spacy_tree\n",
    "from IPython.display import Image, display"
   ]
  },
  {
   "cell_type": "code",
   "execution_count": 4,
   "metadata": {},
   "outputs": [],
   "source": [
    "def find_adj_noun(text):\n",
    "    \n",
    "    doc = nlp(text)\n",
    "\n",
    "    pat = []\n",
    "    \n",
    "    for token in doc:\n",
    "        phrase = ''\n",
    "        if (token.pos_ == 'NOUN')\\\n",
    "            and (token.dep_ in ['dobj','pobj','nsubj','nsubjpass']):\n",
    "\n",
    "            for subtoken in token.children:\n",
    "                if (subtoken.pos_ == 'ADJ') or (subtoken.dep_ == 'compound'):\n",
    "                    phrase += subtoken.text + ' '\n",
    "\n",
    "            if len(phrase)!=0:\n",
    "                phrase += token.text\n",
    "             \n",
    "        if  len(phrase)!=0:\n",
    "            pat.append(phrase)\n",
    "        \n",
    "    \n",
    "    return pat"
   ]
  },
  {
   "cell_type": "code",
   "execution_count": 7,
   "metadata": {},
   "outputs": [
    {
     "name": "stdout",
     "output_type": "stream",
     "text": [
      "['square blue table']\n"
     ]
    }
   ],
   "source": [
    "sent = \"I want a square blue table.\"\n",
    "output = find_adj_noun(sent)\n",
    "print(output)"
   ]
  },
  {
   "cell_type": "code",
   "execution_count": 11,
   "metadata": {},
   "outputs": [
    {
     "name": "stdout",
     "output_type": "stream",
     "text": [
      "[]\n"
     ]
    }
   ],
   "source": [
    "sent2 = \"I want a table.\"\n",
    "output2 = find_adj_noun(sent2)\n",
    "print(output2)"
   ]
  },
  {
   "cell_type": "code",
   "execution_count": null,
   "metadata": {},
   "outputs": [],
   "source": []
  },
  {
   "attachments": {},
   "cell_type": "markdown",
   "metadata": {},
   "source": [
    "Ordering multiple adjectives\n",
    "When a number of adjectives are used together, the order depends on the function of the adjective. The usual order is:\n",
    "\n",
    "quantity, value/opinion, size, temperature, age, shape, colour, origin, material"
   ]
  },
  {
   "cell_type": "code",
   "execution_count": null,
   "metadata": {},
   "outputs": [],
   "source": []
  }
 ],
 "metadata": {
  "kernelspec": {
   "display_name": "Python 3",
   "language": "python",
   "name": "python3"
  },
  "language_info": {
   "codemirror_mode": {
    "name": "ipython",
    "version": 3
   },
   "file_extension": ".py",
   "mimetype": "text/x-python",
   "name": "python",
   "nbconvert_exporter": "python",
   "pygments_lexer": "ipython3",
   "version": "3.9.5"
  },
  "orig_nbformat": 4,
  "vscode": {
   "interpreter": {
    "hash": "0b17cd810432d5599572da8f58f98334ab0a581541754ca65801d5f6103e7276"
   }
  }
 },
 "nbformat": 4,
 "nbformat_minor": 2
}
