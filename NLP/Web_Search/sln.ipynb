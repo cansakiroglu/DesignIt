{
 "cells": [
  {
   "cell_type": "code",
   "execution_count": null,
   "metadata": {},
   "outputs": [],
   "source": [
    "import pandas as pd\n",
    "from selenium import webdriver\n",
    "import time\n",
    "import requests\n",
    "import urllib.parse\n"
   ]
  },
  {
   "cell_type": "code",
   "execution_count": null,
   "metadata": {},
   "outputs": [],
   "source": [
    "from selenium.webdriver.chrome.options import Options \n",
    "\n",
    "options = webdriver.ChromeOptions()"
   ]
  },
  {
   "cell_type": "code",
   "execution_count": null,
   "metadata": {},
   "outputs": [],
   "source": [
    "pth = \"C:\\\\Users\\\\BASAK\\\\Downloads\\\\chromedriver.exe\"\n",
    "browser = webdriver.Chrome(executable_path=pth,options=options)\n",
    "\n",
    "inp = input()\n",
    "\n",
    "inp = urllib.parse.quote_plus(inp)\n",
    "\n",
    "req = \"https://www.google.com.tr/shopping?q=\" + inp\n",
    "\n",
    "browser.get(req)\n",
    "time.sleep(2)\n",
    "\n",
    "search = browser.find_element(by=\"xpath\",value=\"/html/body/div[1]/div[3]/form/div[1]/div[1]/div[3]/center/input\")\n",
    "\n",
    "search.click()\n",
    "\n",
    "# img= browser.find_element(\"xpath\",'/html/body/div[7]/div/div[4]/div[3]/div/div[3]/div[1]/div[2]/div/div[1]/div[1]/div[2]/div[1]/div/div/div/a/div/div/img')\n",
    "# img2 = browser.find_element(\"xpath\",\"/html/body/div[7]/div/div[4]/div[3]/div/div[3]/div[1]/div[2]/div/div[2]/div[1]/div[2]/div[1]/div/div/div/a/div/div/img\")\n",
    "# img3 = browser.find_element(\"xpath\",\"/html/body/div[7]/div/div[4]/div[3]/div/div[3]/div[1]/div[2]/div/div[3]/div[1]/div[2]/div[1]/div/div/div/a/div/div/img\")\n",
    "# img4 = browser.find_element(\"xpath\",\"/html/body/div[7]/div/div[4]/div[3]/div/div[3]/div[1]/div[2]/div/div[4]/div[1]/div[2]/div[1]/div/div/div/a/div/div/img\")\n",
    "\n",
    "# /html/body/div[7]/div/div[4]/div[3]/div/div[3]/div\n",
    "\n",
    "lists = browser.find_element(\"xpath\",\"/html/body/div[7]/div/div[4]/div[3]/div/div[3]/div\")\n",
    "\n",
    "imgs = lists.find_elements(\"xpath\",'//img[@role=\"presentation\"]')\n",
    "\n",
    "# imgs = imgs[2:]\n",
    "\n",
    "i = 0\n",
    "for img in imgs:\n",
    "\ttry:\n",
    "\t\tprice = img.find_element(\"xpath\",\"..\")\n",
    "\t\tfor j in range(7):\n",
    "\t\t\tprice = price.find_element(\"xpath\",\"..\")\n",
    "\t\t\t# print(price.get_attribute(\"innerText\"))\n",
    "\t\t# print(price.get_attribute(\"innerHTML\"))\n",
    "\t\t# break\n",
    "\t\tprint(price.find_element(\"xpath\",\"div[2]/span/div[1]/a[1]/div[2]/span/span/span[1]/span\").get_attribute(\"innerHTML\"))\n",
    "\t\n",
    "\texcept Exception as e :\n",
    "\t\t# print(e)\n",
    "\t\t# i -= 1\n",
    "\t\tcontinue\n",
    "\n",
    "\tr = requests.get(img.get_attribute(\"src\"))\n",
    "\twith open(\"test\"+str(i)+\".png\",\"wb\") as f:\n",
    "\t\tf.write(r.content)\n",
    "\t\ti += 1\n",
    "\t\tf.close()\n",
    "\tif i == 4:\n",
    "\t\tbreak\n",
    "\n",
    "browser.close()"
   ]
  },
  {
   "cell_type": "code",
   "execution_count": null,
   "metadata": {},
   "outputs": [],
   "source": [
    "img.get_attribute(\"src\")"
   ]
  },
  {
   "cell_type": "code",
   "execution_count": null,
   "metadata": {},
   "outputs": [],
   "source": [
    "img= browser.find_element(\"xpath\",'/html/body/div[7]/div/div[4]/div[3]/div/div[3]/div[1]/div[2]/div/div[1]/div[1]/div[2]/div[1]/div/div/div/a/div/div/img')\n",
    "img2 = browser.find_element(\"xpath\",\"/html/body/div[7]/div/div[4]/div[3]/div/div[3]/div[1]/div[2]/div/div[2]/div[1]/div[2]/div[1]/div/div/div/a/div/div/img\")\n",
    "img3 = browser.find_element(\"xpath\",\"/html/body/div[7]/div/div[4]/div[3]/div/div[3]/div[1]/div[2]/div/div[3]/div[1]/div[2]/div[1]/div/div/div/a/div/div/img\")\n",
    "img4 = browser.find_element(\"xpath\",\"/html/body/div[7]/div/div[4]/div[3]/div/div[3]/div[1]/div[2]/div/div[4]/div[1]/div[2]/div[1]/div/div/div/a/div/div/img\")"
   ]
  },
  {
   "cell_type": "code",
   "execution_count": null,
   "metadata": {},
   "outputs": [],
   "source": [
    "r = requests.get(img.get_attribute(\"src\"))\n",
    "with open(\"test.png\",\"wb\") as f:\n",
    "    f.write(r.content)\n",
    "    f.close()"
   ]
  }
 ],
 "metadata": {
  "language_info": {
   "name": "python"
  },
  "orig_nbformat": 4
 },
 "nbformat": 4,
 "nbformat_minor": 2
}
