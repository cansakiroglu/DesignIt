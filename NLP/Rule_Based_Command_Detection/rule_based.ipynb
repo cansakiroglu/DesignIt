{
 "cells": [
  {
   "cell_type": "code",
   "execution_count": 1,
   "metadata": {},
   "outputs": [],
   "source": [
    "import string"
   ]
  },
  {
   "cell_type": "code",
   "execution_count": 2,
   "metadata": {},
   "outputs": [],
   "source": [
    "video_chat = [\"video chat\", \"live stream\", \"video call\", \"call\"] # label: 0\n",
    "goruntu = [\"image\", \"view\", \"video\"] # label: 1\n",
    "ses = [\"sound\", \"voice\"] # label: 2\n",
    "envanter = [\"inventory\", \"items\", \"list of goods\",\"in game menu\", \"menu for game\",\"menu for the game\"] # label: 3\n",
    "#cagri = [\"call\"] # video chate gonderildi\n",
    "menu = [\"menu\", \"main menu\"] #label 11"
   ]
  },
  {
   "cell_type": "code",
   "execution_count": 3,
   "metadata": {},
   "outputs": [],
   "source": [
    "olumsuz = [\"close\", \"turn off\", \"end\", \"shut down\"] #kapa sonlandir #0\n",
    "olumlu = [\"open\", \"turn on\", \"start\"] #1\n",
    "olumlu_partial = [\"turn\", \"on\"] #1\n",
    "olumsuz_partial = [\"turn\", \"off\"] #0\n",
    "menu_ozel = [\"back to\", \"turn back\", \"return\"] #11"
   ]
  },
  {
   "cell_type": "code",
   "execution_count": 4,
   "metadata": {},
   "outputs": [],
   "source": [
    "def label_command(sentence):\n",
    "    label = []\n",
    "    sentence = sentence.lower()\n",
    "    sentence = sentence.translate(str.maketrans('', '', string.punctuation))\n",
    "    if any(item in sentence for item in video_chat):\n",
    "            label.append(0)\n",
    "            if any(status in sentence for status in olumlu):\n",
    "                  label.append(1)\n",
    "                  return label\n",
    "            if all(status in sentence for status in olumlu_partial):\n",
    "                  label.append(1)\n",
    "                  return label\n",
    "            if all(status in sentence for status in olumsuz_partial):\n",
    "                  label.append(0)\n",
    "                  return label\n",
    "            elif any(status in sentence for status in olumsuz):\n",
    "                  label.append(0)\n",
    "                  return label\n",
    "            else:\n",
    "                  label.append(12)\n",
    "                  return label\n",
    "            \n",
    "    elif any(item in sentence for item in goruntu):\n",
    "            label.append(1)\n",
    "            if any(status in sentence for status in olumlu):\n",
    "                  label.append(1)\n",
    "                  return label\n",
    "            if all(status in sentence for status in olumlu_partial):\n",
    "                  label.append(1)\n",
    "                  return label\n",
    "            if all(status in sentence for status in olumsuz_partial):\n",
    "                  label.append(0)\n",
    "                  return label\n",
    "            elif any(status in sentence for status in olumsuz):\n",
    "                  label.append(0)\n",
    "                  return label\n",
    "            else:\n",
    "                  label.append(12)\n",
    "                  return label\n",
    "            \n",
    "    elif any(item in sentence for item in ses):\n",
    "            label.append(2)\n",
    "            if any(status in sentence for status in olumlu):\n",
    "                  label.append(1)\n",
    "                  return label\n",
    "            if all(status in sentence for status in olumlu_partial):\n",
    "                  label.append(1)\n",
    "                  return label\n",
    "            if all(status in sentence for status in olumsuz_partial):\n",
    "                  label.append(0)\n",
    "                  return label\n",
    "            elif any(status in sentence for status in olumsuz):\n",
    "                  label.append(0)\n",
    "                  return label\n",
    "            else:\n",
    "                  label.append(12)\n",
    "                  return label\n",
    "            \n",
    "    elif any(item in sentence for item in envanter):\n",
    "            label.append(3)\n",
    "            if any(status in sentence for status in olumlu):\n",
    "                  label.append(1)\n",
    "                  return label\n",
    "            if all(status in sentence for status in olumlu_partial):\n",
    "                  label.append(1)\n",
    "                  return label\n",
    "            if all(status in sentence for status in olumsuz_partial):\n",
    "                  label.append(0)\n",
    "                  return label\n",
    "            elif any(status in sentence for status in olumsuz):\n",
    "                  label.append(0)\n",
    "                  return label\n",
    "            else:\n",
    "                  label.append(12)\n",
    "                  return label\n",
    "        \n",
    "    #elif any(item in sentence for item in oyun_menu):\n",
    "    #        label.append(4)\n",
    "    #        if any(status in sentence for status in olumlu):\n",
    "    #              label.append(1)\n",
    "    #              return label\n",
    "    #        if all(status in sentence for status in olumlu_partial):\n",
    "    #              label.append(1)\n",
    "    #              return label\n",
    "    #        if all(status in sentence for status in olumsuz_partial):\n",
    "    #              label.append(0)\n",
    "    #              return label\n",
    "    #        elif any(status in sentence for status in olumsuz):\n",
    "    #              label.append(0)\n",
    "    #              return label\n",
    "    #        else:\n",
    "    #              label.append(12)\n",
    "    #              return label\n",
    "    #        \n",
    "    #elif any(item in sentence for item in cagri):\n",
    "    #        label.append(5)\n",
    "    #        if any(status in sentence for status in olumlu):\n",
    "    #              label.append(1)\n",
    "    #              return label\n",
    "    #        if all(status in sentence for status in olumlu_partial):\n",
    "    #              label.append(1)\n",
    "    #              return label\n",
    "    #        if all(status in sentence for status in olumsuz_partial):\n",
    "    #              label.append(0)\n",
    "    #              return label\n",
    "    #        elif any(status in sentence for status in olumsuz):\n",
    "    #              label.append(0)\n",
    "    #              return label\n",
    "    #        else:\n",
    "    #              label.append(12)\n",
    "    #              return label\n",
    "    elif any(item in sentence for item in menu):\n",
    "            label.append(11)\n",
    "            if any(status in sentence for status in menu_ozel):\n",
    "                  label.append(11)\n",
    "                  return label\n",
    "    else:\n",
    "          label.append(12)\n",
    "          label.append(12)\n",
    "          return label\n",
    "    "
   ]
  },
  {
   "cell_type": "code",
   "execution_count": 5,
   "metadata": {},
   "outputs": [],
   "source": [
    "sentence = \"video chat is a good app....\""
   ]
  },
  {
   "cell_type": "code",
   "execution_count": 6,
   "metadata": {},
   "outputs": [
    {
     "data": {
      "text/plain": [
       "[0, 12]"
      ]
     },
     "execution_count": 6,
     "metadata": {},
     "output_type": "execute_result"
    }
   ],
   "source": [
    "x = label_command(sentence)\n",
    "x\n"
   ]
  },
  {
   "cell_type": "code",
   "execution_count": null,
   "metadata": {},
   "outputs": [],
   "source": []
  }
 ],
 "metadata": {
  "kernelspec": {
   "display_name": "Python 3",
   "language": "python",
   "name": "python3"
  },
  "language_info": {
   "codemirror_mode": {
    "name": "ipython",
    "version": 3
   },
   "file_extension": ".py",
   "mimetype": "text/x-python",
   "name": "python",
   "nbconvert_exporter": "python",
   "pygments_lexer": "ipython3",
   "version": "3.9.5"
  },
  "orig_nbformat": 4,
  "vscode": {
   "interpreter": {
    "hash": "0b17cd810432d5599572da8f58f98334ab0a581541754ca65801d5f6103e7276"
   }
  }
 },
 "nbformat": 4,
 "nbformat_minor": 2
}
